{
 "cells": [
  {
   "cell_type": "markdown",
   "metadata": {},
   "source": [
    "# Random forest classifier for NMD prediction"
   ]
  },
  {
   "cell_type": "code",
   "execution_count": 1,
   "metadata": {},
   "outputs": [],
   "source": [
    "# Data Processing\n",
    "import pandas as pd\n",
    "import numpy as np\n",
    "\n",
    "# Modelling\n",
    "from sklearn.ensemble import RandomForestClassifier\n",
    "from sklearn.metrics import accuracy_score, confusion_matrix, precision_score, recall_score, ConfusionMatrixDisplay\n",
    "from sklearn.model_selection import RandomizedSearchCV, train_test_split\n",
    "from scipy.stats import randint\n",
    "\n",
    "# Tree Visualisation\n",
    "from sklearn.tree import export_graphviz\n",
    "from IPython.display import Image\n",
    "import graphviz\n",
    "\n",
    "#preprocessing\n",
    "from sklearn import preprocessing"
   ]
  },
  {
   "cell_type": "code",
   "execution_count": 2,
   "metadata": {},
   "outputs": [],
   "source": [
    "negative_df = pd.read_csv('random_balanced_negative_set_state_100_insign_no_NMD_pub.csv', index_col = 0)\n",
    "positive_df = pd.read_csv('long_read_sleuth_dKD_up_filtered_features.csv', index_col = 0)"
   ]
  },
  {
   "cell_type": "code",
   "execution_count": 3,
   "metadata": {},
   "outputs": [],
   "source": [
    "#Label\n",
    "negative_df['NMD_sensitivity'] = 0\n",
    "positive_df['NMD_sensitivity'] = 1"
   ]
  },
  {
   "cell_type": "code",
   "execution_count": 4,
   "metadata": {},
   "outputs": [
    {
     "data": {
      "text/plain": [
       "Index(['name_tar', 'start_ORF', 'end_ORF', 'exon_with_stop_length',\n",
       "       'last_exon_length', 't_length', 'distance_stop_EJC', 'ORF_id', '50_nt',\n",
       "       'stop_TGA', 'stop_TAA', '3_UTR_length', '5_UTR_length',\n",
       "       'distance_stop_from_start', 'stop_150bp_from_start', '4th_stop_C',\n",
       "       '4th_stop_G', '4th_stop_T', 'GC_perc_30_bp_round_stop',\n",
       "       'GC_perc_up_15_bp_stop', 'GC_perc_down_15_bp_stop',\n",
       "       'nr_exons_in_transcript', 'nr_exons_in_3prime',\n",
       "       'UPF1_motifs_in3prime_total', 'UPF1_motifs_in3prime_relative',\n",
       "       'NMD_sensitivity'],\n",
       "      dtype='object')"
      ]
     },
     "execution_count": 4,
     "metadata": {},
     "output_type": "execute_result"
    }
   ],
   "source": [
    "NMD_features_df =pd.concat([negative_df, positive_df], axis=0, join='outer')\n",
    "NMD_features_df.columns"
   ]
  },
  {
   "cell_type": "code",
   "execution_count": 5,
   "metadata": {},
   "outputs": [],
   "source": [
    "NMD_features_df.dropna(inplace=True)\n",
    "X = NMD_features_df.drop(['name_tar', 'start_ORF', 'end_ORF', \n",
    "                          'GC_perc_30_bp_round_stop',\n",
    "                          'UPF1_motifs_in3prime_relative', \n",
    "                          'ORF_id', 'NMD_sensitivity'\n",
    "                            ], axis=1)\n",
    "\n",
    "y = NMD_features_df['NMD_sensitivity']\n",
    "\n",
    "#normlaize X\n",
    "for variable in ['nr_exons_in_3prime', 'exon_with_stop_length', 'last_exon_length', \n",
    "                 'distance_stop_EJC', '3_UTR_length',  '5_UTR_length', 't_length',\n",
    "               'distance_stop_from_start', 'nr_exons_in_transcript']:\n",
    "    X[variable]=(X[variable]-X[variable].mean())/X[variable].std()\n",
    "\n",
    "#X['distance_stop_EJC']=(X['distance_stop_EJC']-X['distance_stop_EJC'].mean())/X['distance_stop_EJC'].std()\n",
    "\n",
    "# Split the data into training and test sets\n",
    "X_train, X_test, y_train, y_test = train_test_split(X, y, test_size=0.2)"
   ]
  },
  {
   "cell_type": "code",
   "execution_count": 6,
   "metadata": {},
   "outputs": [
    {
     "data": {
      "text/plain": [
       "0"
      ]
     },
     "execution_count": 6,
     "metadata": {},
     "output_type": "execute_result"
    }
   ],
   "source": [
    "len(X[X['4th_stop_G'].isna()].index)"
   ]
  },
  {
   "cell_type": "code",
   "execution_count": 7,
   "metadata": {},
   "outputs": [
    {
     "name": "stdout",
     "output_type": "stream",
     "text": [
      "667\n",
      "1309\n"
     ]
    }
   ],
   "source": [
    "print(sum(y_test))\n",
    "print(len(y_test))"
   ]
  },
  {
   "cell_type": "markdown",
   "metadata": {},
   "source": [
    "# Automatic number of features"
   ]
  },
  {
   "cell_type": "code",
   "execution_count": 10,
   "metadata": {},
   "outputs": [],
   "source": [
    "from sklearn.feature_selection import SequentialFeatureSelector\n",
    "forward_selector = SequentialFeatureSelector(RandomForestClassifier(),\n",
    "                                             n_features_to_select = 'auto',\n",
    "                                             scoring = 'accuracy', \n",
    "                                             cv = 5).fit(X_train, y_train)"
   ]
  },
  {
   "cell_type": "code",
   "execution_count": 11,
   "metadata": {},
   "outputs": [
    {
     "data": {
      "text/plain": [
       "Index(['exon_with_stop_length', '50_nt', 'stop_TGA', 'stop_TAA',\n",
       "       'stop_150bp_from_start', '4th_stop_C', '4th_stop_G', '4th_stop_T',\n",
       "       'nr_exons_in_transcript'],\n",
       "      dtype='object')"
      ]
     },
     "execution_count": 11,
     "metadata": {},
     "output_type": "execute_result"
    }
   ],
   "source": [
    "X_train.columns[forward_selector.support_]"
   ]
  },
  {
   "cell_type": "code",
   "execution_count": 12,
   "metadata": {},
   "outputs": [
    {
     "name": "stdout",
     "output_type": "stream",
     "text": [
      "Index(['exon_with_stop_length', '50_nt', 'stop_TGA', 'stop_TAA',\n",
      "       'stop_150bp_from_start', '4th_stop_C', '4th_stop_G', '4th_stop_T',\n",
      "       'nr_exons_in_transcript'],\n",
      "      dtype='object')\n",
      "Accuracy: 0.6348357524828113\n",
      "RMSE of the base model: 0.604\n"
     ]
    },
    {
     "name": "stderr",
     "output_type": "stream",
     "text": [
      "/Users/christina/miniforge3/envs/pygtftk/lib/python3.9/site-packages/sklearn/metrics/_regression.py:483: FutureWarning: 'squared' is deprecated in version 1.4 and will be removed in 1.6. To calculate the root mean squared error, use the function'root_mean_squared_error'.\n",
      "  warnings.warn(\n"
     ]
    }
   ],
   "source": [
    "X_small = X.loc[:, forward_selector.support_]\n",
    "print(X_small.columns)\n",
    "X_train_small, X_test_small, y_train_small, y_test_small = train_test_split(X_small, y, test_size=0.2)\n",
    "\n",
    "rf = RandomForestClassifier()\n",
    "rf.fit(X_train_small, y_train_small)\n",
    "y_pred = rf.predict(X_test_small)\n",
    "\n",
    "accuracy = accuracy_score(y_test_small, y_pred)\n",
    "print(\"Accuracy:\", accuracy)\n",
    "\n",
    "from sklearn.metrics import mean_squared_error\n",
    "rmse = mean_squared_error(y_test_small, y_pred, squared=False)\n",
    "\n",
    "print(f\"RMSE of the base model: {rmse:.3f}\")\n"
   ]
  },
  {
   "cell_type": "code",
   "execution_count": null,
   "metadata": {},
   "outputs": [],
   "source": []
  },
  {
   "cell_type": "code",
   "execution_count": null,
   "metadata": {},
   "outputs": [],
   "source": []
  },
  {
   "cell_type": "markdown",
   "metadata": {},
   "source": [
    "## Forward backward selection"
   ]
  },
  {
   "cell_type": "code",
   "execution_count": 8,
   "metadata": {},
   "outputs": [
    {
     "data": {
      "text/plain": [
       "array([False, False, False, False,  True, False, False, False, False,\n",
       "       False, False, False, False, False, False, False, False, False,\n",
       "       False])"
      ]
     },
     "execution_count": 8,
     "metadata": {},
     "output_type": "execute_result"
    }
   ],
   "source": [
    "from sklearn.feature_selection import SequentialFeatureSelector\n",
    "features_to_use = []\n",
    "forward_selector = SequentialFeatureSelector(RandomForestClassifier(),\n",
    "                                             n_features_to_select = 1,\n",
    "                                             scoring = 'accuracy', \n",
    "                                             cv = 5).fit(X_train, y_train)\n",
    "X_train.columns[forward_selector.support_]\n",
    "\n",
    "X_down = X.loc[:, forward_selector.support_]\n",
    "print(X_down.columns)\n",
    "X_train_small, X_test_small, y_train_small, y_test_small = train_test_split(X_down, y, test_size=0.2)\n",
    "\n",
    "rf = RandomForestClassifier()\n",
    "rf.fit(X_train_small, y_train_small)\n",
    "y_pred = rf.predict(X_test_small)\n",
    "\n",
    "accuracy = accuracy_score(y_test_small, y_pred)\n",
    "print(\"Accuracy:\", accuracy)\n",
    "\n",
    "from sklearn.metrics import mean_squared_error\n",
    "rmse = mean_squared_error(y_test_small, y_pred, squared=False)\n",
    "\n",
    "print(f\"RMSE of the base model: {rmse:.3f}\")\n"
   ]
  },
  {
   "cell_type": "code",
   "execution_count": 9,
   "metadata": {},
   "outputs": [
    {
     "data": {
      "text/plain": [
       "Index(['50_nt'], dtype='object')"
      ]
     },
     "execution_count": 9,
     "metadata": {},
     "output_type": "execute_result"
    }
   ],
   "source": []
  },
  {
   "cell_type": "code",
   "execution_count": null,
   "metadata": {},
   "outputs": [],
   "source": []
  },
  {
   "cell_type": "code",
   "execution_count": null,
   "metadata": {},
   "outputs": [],
   "source": []
  },
  {
   "cell_type": "code",
   "execution_count": null,
   "metadata": {},
   "outputs": [],
   "source": []
  },
  {
   "cell_type": "code",
   "execution_count": 107,
   "metadata": {},
   "outputs": [
    {
     "name": "stdout",
     "output_type": "stream",
     "text": [
      "Num Features: 12\n",
      "Selected Features: [ True  True  True  True  True False  True  True False False False False\n",
      "  True  True  True  True  True]\n",
      "Feature Ranking: [1 1 1 1 1 5 1 1 4 3 2 6 1 1 1 1 1]\n"
     ]
    }
   ],
   "source": [
    "from sklearn.feature_selection import RFE\n",
    "rf = RandomForestClassifier()\n",
    "rfe = RFE(estimator=rf, n_features_to_select=12)\n",
    "fit = rfe.fit(X_train, y_train)\n",
    "print(\"Num Features: %d\" % fit.n_features_)\n",
    "print(\"Selected Features: %s\" % fit.support_)\n",
    "print(\"Feature Ranking: %s\" % fit.ranking_)\n"
   ]
  },
  {
   "cell_type": "code",
   "execution_count": 108,
   "metadata": {},
   "outputs": [
    {
     "name": "stdout",
     "output_type": "stream",
     "text": [
      "Index(['exon_with_stop_length', 'last_exon_length', 'distance_stop_EJC',\n",
      "       '50_nt', 'stop_TGA', '3_UTR_length', 'distance_stop_from_start',\n",
      "       'GC_perc_up_15_bp_stop', 'GC_perc_down_15_bp_stop',\n",
      "       'nr_exons_in_transcript', 'nr_exons_in_3prime',\n",
      "       'UPF1_motifs_in3prime_total'],\n",
      "      dtype='object')\n"
     ]
    }
   ],
   "source": [
    "X_7_feat = X.loc[:, fit.support_]\n",
    "print(X_7_feat.columns)\n",
    "X_train_small, X_test_small, y_train_small, y_test_small = train_test_split(X_7_feat, y, test_size=0.2)\n"
   ]
  },
  {
   "cell_type": "code",
   "execution_count": 109,
   "metadata": {},
   "outputs": [],
   "source": [
    "rf.fit(X_train_small, y_train_small)\n",
    "y_pred = rf.predict(X_test_small)"
   ]
  },
  {
   "cell_type": "code",
   "execution_count": 110,
   "metadata": {},
   "outputs": [
    {
     "name": "stdout",
     "output_type": "stream",
     "text": [
      "Accuracy: 0.7051184110007639\n",
      "RMSE of the base model: 0.543\n"
     ]
    },
    {
     "name": "stderr",
     "output_type": "stream",
     "text": [
      "/Users/christina/miniforge3/envs/pygtftk/lib/python3.9/site-packages/sklearn/metrics/_regression.py:483: FutureWarning: 'squared' is deprecated in version 1.4 and will be removed in 1.6. To calculate the root mean squared error, use the function'root_mean_squared_error'.\n",
      "  warnings.warn(\n"
     ]
    }
   ],
   "source": [
    "accuracy = accuracy_score(y_test_small, y_pred)\n",
    "print(\"Accuracy:\", accuracy)\n",
    "\n",
    "from sklearn.metrics import mean_squared_error\n",
    "rmse = mean_squared_error(y_test_small, y_pred, squared=False)\n",
    "\n",
    "print(f\"RMSE of the base model: {rmse:.3f}\")"
   ]
  },
  {
   "cell_type": "code",
   "execution_count": 111,
   "metadata": {},
   "outputs": [
    {
     "data": {
      "image/png": "[encoded data removed]",
      "text/plain": [
       "<Figure size 640x480 with 2 Axes>"
      ]
     },
     "metadata": {},
     "output_type": "display_data"
    }
   ],
   "source": [
    "# Create the confusion matrix\n",
    "cm = confusion_matrix(y_test_small, y_pred)\n",
    "\n",
    "ConfusionMatrixDisplay(confusion_matrix=cm).plot();"
   ]
  },
  {
   "cell_type": "code",
   "execution_count": 11,
   "metadata": {},
   "outputs": [
    {
     "data": {
      "text/html": [
       "<div>\n",
       "<style scoped>\n",
       "    .dataframe tbody tr th:only-of-type {\n",
       "        vertical-align: middle;\n",
       "    }\n",
       "\n",
       "    .dataframe tbody tr th {\n",
       "        vertical-align: top;\n",
       "    }\n",
       "\n",
       "    .dataframe thead th {\n",
       "        text-align: right;\n",
       "    }\n",
       "</style>\n",
       "<table border=\"1\" class=\"dataframe\">\n",
       "  <thead>\n",
       "    <tr style=\"text-align: right;\">\n",
       "      <th></th>\n",
       "      <th>Importance</th>\n",
       "      <th>Std</th>\n",
       "    </tr>\n",
       "  </thead>\n",
       "  <tbody>\n",
       "    <tr>\n",
       "      <th>50_nt</th>\n",
       "      <td>-0.003427</td>\n",
       "      <td>0.002214</td>\n",
       "    </tr>\n",
       "    <tr>\n",
       "      <th>UPF1_motifs_in3prime_total</th>\n",
       "      <td>-0.003351</td>\n",
       "      <td>0.001933</td>\n",
       "    </tr>\n",
       "    <tr>\n",
       "      <th>3_UTR_length</th>\n",
       "      <td>-0.003123</td>\n",
       "      <td>0.002899</td>\n",
       "    </tr>\n",
       "    <tr>\n",
       "      <th>distance_stop_from_start</th>\n",
       "      <td>-0.000305</td>\n",
       "      <td>0.002213</td>\n",
       "    </tr>\n",
       "    <tr>\n",
       "      <th>distance_stop_EJC</th>\n",
       "      <td>0.002513</td>\n",
       "      <td>0.004016</td>\n",
       "    </tr>\n",
       "    <tr>\n",
       "      <th>4th_stop_C</th>\n",
       "      <td>0.002894</td>\n",
       "      <td>0.004359</td>\n",
       "    </tr>\n",
       "    <tr>\n",
       "      <th>4th_stop_T</th>\n",
       "      <td>0.003199</td>\n",
       "      <td>0.002280</td>\n",
       "    </tr>\n",
       "    <tr>\n",
       "      <th>exon_with_stop_length</th>\n",
       "      <td>0.004570</td>\n",
       "      <td>0.005492</td>\n",
       "    </tr>\n",
       "    <tr>\n",
       "      <th>nr_exons_in_3prime</th>\n",
       "      <td>0.004798</td>\n",
       "      <td>0.003491</td>\n",
       "    </tr>\n",
       "    <tr>\n",
       "      <th>last_exon_length</th>\n",
       "      <td>0.016070</td>\n",
       "      <td>0.005549</td>\n",
       "    </tr>\n",
       "    <tr>\n",
       "      <th>nr_exons_in_transcript</th>\n",
       "      <td>0.017517</td>\n",
       "      <td>0.004493</td>\n",
       "    </tr>\n",
       "    <tr>\n",
       "      <th>4th_stop_G</th>\n",
       "      <td>0.050876</td>\n",
       "      <td>0.007476</td>\n",
       "    </tr>\n",
       "    <tr>\n",
       "      <th>stop_150bp_from_start</th>\n",
       "      <td>0.060244</td>\n",
       "      <td>0.007620</td>\n",
       "    </tr>\n",
       "  </tbody>\n",
       "</table>\n",
       "</div>"
      ],
      "text/plain": [
       "                            Importance       Std\n",
       "50_nt                        -0.003427  0.002214\n",
       "UPF1_motifs_in3prime_total   -0.003351  0.001933\n",
       "3_UTR_length                 -0.003123  0.002899\n",
       "distance_stop_from_start     -0.000305  0.002213\n",
       "distance_stop_EJC             0.002513  0.004016\n",
       "4th_stop_C                    0.002894  0.004359\n",
       "4th_stop_T                    0.003199  0.002280\n",
       "exon_with_stop_length         0.004570  0.005492\n",
       "nr_exons_in_3prime            0.004798  0.003491\n",
       "last_exon_length              0.016070  0.005549\n",
       "nr_exons_in_transcript        0.017517  0.004493\n",
       "4th_stop_G                    0.050876  0.007476\n",
       "stop_150bp_from_start         0.060244  0.007620"
      ]
     },
     "execution_count": 11,
     "metadata": {},
     "output_type": "execute_result"
    }
   ],
   "source": [
    "from sklearn.inspection import permutation_importance\n",
    "\n",
    "result = permutation_importance(rf, X_test, y_test, n_repeats=10, random_state=42)\n",
    "\n",
    "perm_importances = result.importances_mean\n",
    "perm_std = result.importances_std\n",
    "sorted_idx = perm_importances.argsort()\n",
    "feature_names = X_test.columns\n",
    "\n",
    "pd.DataFrame({'Importance': perm_importances, 'Std': perm_std}, index=feature_names[sorted_idx]).sort_values('Importance',ascending=True)"
   ]
  },
  {
   "cell_type": "code",
   "execution_count": 16,
   "metadata": {},
   "outputs": [
    {
     "data": {
      "text/plain": [
       "MSTRG.11025.2      0.923329\n",
       "ENST00000706246    0.923329\n",
       "ENST00000393708   -1.082872\n",
       "ENST00000498104    0.923329\n",
       "ENST00000284719   -1.082872\n",
       "                     ...   \n",
       "ENST00000674862   -1.082872\n",
       "ENST00000539904    0.923329\n",
       "ENST00000591650   -1.082872\n",
       "ENST00000580287    0.923329\n",
       "MSTRG.26484.1      0.923329\n",
       "Name: 50_nt, Length: 1313, dtype: float64"
      ]
     },
     "execution_count": 16,
     "metadata": {},
     "output_type": "execute_result"
    }
   ],
   "source": [
    "X_test.loc[y_test.index, \"50_nt\"]"
   ]
  },
  {
   "cell_type": "code",
   "execution_count": null,
   "metadata": {},
   "outputs": [],
   "source": [
    "#Baseline: better than 50nt rule alone\n",
    "y_pred_50 = NMD_features_df.loc[y_test.index, \"50_nt\"]\n",
    "# Create the confusion matrix\n",
    "cm = confusion_matrix(y_test, y_pred)\n",
    "\n",
    "ConfusionMatrixDisplay(confusion_matrix=cm).plot();"
   ]
  },
  {
   "cell_type": "markdown",
   "metadata": {},
   "source": [
    "## Sequential feature selection"
   ]
  },
  {
   "cell_type": "code",
   "execution_count": 119,
   "metadata": {},
   "outputs": [],
   "source": [
    "from sklearn.feature_selection import SequentialFeatureSelector\n",
    "forward_selector = SequentialFeatureSelector(RandomForestClassifier(),\n",
    "                                             n_features_to_select = 6,\n",
    "                                             scoring = 'accuracy', \n",
    "                                             cv = 5).fit(X_train, y_train)"
   ]
  },
  {
   "cell_type": "code",
   "execution_count": 120,
   "metadata": {},
   "outputs": [
    {
     "data": {
      "text/plain": [
       "array([False, False, False,  True,  True,  True, False, False,  True,\n",
       "        True, False, False, False, False,  True, False, False])"
      ]
     },
     "execution_count": 120,
     "metadata": {},
     "output_type": "execute_result"
    }
   ],
   "source": [
    "forward_selector.support_"
   ]
  },
  {
   "cell_type": "code",
   "execution_count": 121,
   "metadata": {},
   "outputs": [
    {
     "name": "stdout",
     "output_type": "stream",
     "text": [
      "Index(['50_nt', 'stop_TGA', 'stop_TAA', 'stop_150bp_from_start', '4th_stop_C',\n",
      "       'nr_exons_in_transcript'],\n",
      "      dtype='object')\n",
      "Accuracy: 0.6615737203972498\n",
      "RMSE of the base model: 0.582\n"
     ]
    },
    {
     "name": "stderr",
     "output_type": "stream",
     "text": [
      "/Users/christina/miniforge3/envs/pygtftk/lib/python3.9/site-packages/sklearn/metrics/_regression.py:483: FutureWarning: 'squared' is deprecated in version 1.4 and will be removed in 1.6. To calculate the root mean squared error, use the function'root_mean_squared_error'.\n",
      "  warnings.warn(\n"
     ]
    }
   ],
   "source": [
    "#select features\n",
    "X_7_feat = X.loc[:, forward_selector.support_]\n",
    "print(X_7_feat.columns)\n",
    "X_train_small, X_test_small, y_train_small, y_test_small = train_test_split(X_7_feat, y, test_size=0.2)\n",
    "\n",
    "#fit classifier\n",
    "rf = RandomForestClassifier()\n",
    "rf.fit(X_train_small, y_train_small)\n",
    "y_pred = rf.predict(X_test_small)\n",
    "\n",
    "#get prediction evaluation\n",
    "accuracy = accuracy_score(y_test_small, y_pred)\n",
    "print(\"Accuracy:\", accuracy)\n",
    "\n",
    "from sklearn.metrics import mean_squared_error\n",
    "rmse = mean_squared_error(y_test_small, y_pred, squared=False)\n",
    "\n",
    "print(f\"RMSE of the base model: {rmse:.3f}\")"
   ]
  },
  {
   "cell_type": "markdown",
   "metadata": {},
   "source": []
  }
 ],
 "metadata": {
  "kernelspec": {
   "display_name": "pygtftk",
   "language": "python",
   "name": "python3"
  },
  "language_info": {
   "codemirror_mode": {
    "name": "ipython",
    "version": 3
   },
   "file_extension": ".py",
   "mimetype": "text/x-python",
   "name": "python",
   "nbconvert_exporter": "python",
   "pygments_lexer": "ipython3",
   "version": "3.9.18"
  }
 },
 "nbformat": 4,
 "nbformat_minor": 2
}
